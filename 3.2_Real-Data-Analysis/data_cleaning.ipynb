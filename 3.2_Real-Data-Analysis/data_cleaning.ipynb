{
 "cells": [
  {
   "cell_type": "markdown",
   "metadata": {},
   "source": [
    "# Sarcoma Analysis Data Cleaning\n",
    "Before running this notebook, make sure you follow the instructions in `/data/data_sources.md`!!"
   ]
  },
  {
   "cell_type": "code",
   "execution_count": null,
   "metadata": {},
   "outputs": [],
   "source": [
    "# Basic imports\n",
    "import pandas as pd"
   ]
  },
  {
   "cell_type": "markdown",
   "metadata": {},
   "source": [
    "# Demographic Data"
   ]
  },
  {
   "cell_type": "code",
   "execution_count": null,
   "metadata": {},
   "outputs": [],
   "source": [
    "# Read in data\n",
    "demo_data = pd.read_excel('./data/SARC_Master_Patient_Table.xlsx')\n",
    "\n",
    "# Select columns of interest\n",
    "demo_data = demo_data[['TCGA_barcode', 'short_histo', 'age_at_diagnosis', 'gender']]\n",
    "\n",
    "print(demo_data.shape)\n",
    "demo_data.head()"
   ]
  },
  {
   "cell_type": "markdown",
   "metadata": {},
   "source": [
    "# Gene Expression / RNA Data"
   ]
  },
  {
   "cell_type": "code",
   "execution_count": null,
   "metadata": {},
   "outputs": [],
   "source": [
    "# Read in data\n",
    "rna_data = pd.read_csv('./data/Human__TCGA_SARC__UNC__RNAseq__HiSeq_RNA__01_28_2016__BI__Gene__Firehose_RSEM_log2.cct', sep='\\t')\n",
    "\n",
    "# Select genes of interest, transpose data, and reset index\n",
    "genes = [\"CD274\", \"PDCD1\", \"CTLA4\", \"LAG3\", \"TIGIT\", \"TCF7\", \"HAVCR2\"]\n",
    "rna_data = rna_data[rna_data['attrib_name'].isin(genes)].T\n",
    "rna_data = rna_data.rename(columns=rna_data.iloc[0]).drop(rna_data.index[0]).reset_index()\n",
    "\n",
    "# Reformat the subject IDs\n",
    "for i, entry in enumerate(rna_data['index']):\n",
    "    rna_data.loc[i, 'index'] = entry.replace('.', '-')[:15] + \"-01\"\n",
    "\n",
    "print(rna_data.shape)\n",
    "rna_data.head()"
   ]
  },
  {
   "cell_type": "markdown",
   "metadata": {},
   "source": [
    "# Immune Infiltration / Cibersort Data"
   ]
  },
  {
   "cell_type": "code",
   "execution_count": null,
   "metadata": {},
   "outputs": [],
   "source": [
    "# Read in data\n",
    "cibersort_data = pd.read_csv(\"./data/TCGA.Kallisto.fullIDs.cibersort.relative.tsv\", sep=\"\\t\")\n",
    "\n",
    "# Select columns of interest\n",
    "cibersort_data = cibersort_data[[\"SampleID\", 'T.cells.CD8', 'T.cells.CD4.naive',\n",
    "       'T.cells.CD4.memory.resting', 'T.cells.CD4.memory.activated',\n",
    "       'T.cells.follicular.helper', 'T.cells.regulatory..Tregs.',\n",
    "       'T.cells.gamma.delta']]\n",
    "\n",
    "\n",
    "# Reformat the subject IDs\n",
    "for i, entry in enumerate(cibersort_data['SampleID']):\n",
    "    cibersort_data.loc[i, 'SampleID'] = entry.replace('.', '-')[:15]\n",
    "\n",
    "# Sum the columns\n",
    "cibersort_data[\"Y\"] = cibersort_data.drop(columns=[\"SampleID\"]).sum(axis=1)\n",
    "cibersort_data = cibersort_data[['SampleID', 'Y']]\n",
    "\n",
    "print(cibersort_data.shape)\n",
    "cibersort_data.head()"
   ]
  },
  {
   "cell_type": "markdown",
   "metadata": {},
   "source": [
    "# Copy Number Aberrations Data"
   ]
  },
  {
   "cell_type": "code",
   "execution_count": null,
   "metadata": {},
   "outputs": [],
   "source": [
    "# Read in data\n",
    "cna_data = pd.read_excel('./data/CN_by_genes_pansarc.xlsx')\n",
    "\n",
    "# Select columns of interest\n",
    "gene_data = cna_data[['Sample', 'JUN', 'VGLL3', 'TERT', 'MAP3K5', 'UST', 'CDKN2A', 'YAP1', 'CDKN1B', 'PTPRQ', 'RB1', 'TP53', 'MYOCD', 'NF1', 'CCNE1', 'CEBPA', 'ZNF552', 'ATRX', 'PTEN', 'DDIT3', 'CDK4', 'HMGA2', 'MDM2', 'FRS2']]\n",
    "\n",
    "# Reformat the subject IDs\n",
    "for i, entry in enumerate(cna_data['Sample']):\n",
    "    cna_data.loc[i, 'Sample'] = entry[:15]\n",
    "\n",
    "print(cna_data.shape)\n",
    "cna_data.head()"
   ]
  },
  {
   "cell_type": "markdown",
   "metadata": {},
   "source": [
    "# Mutational Load Data"
   ]
  },
  {
   "cell_type": "code",
   "execution_count": null,
   "metadata": {},
   "outputs": [],
   "source": [
    "# Read in data\n",
    "mutational_load_data = pd.read_csv('./data/mutation-load_updated.txt', sep='\\t')\n",
    "\n",
    "# Select columns of interest\n",
    "mutational_load_data = mutational_load_data[['Tumor_Sample_ID', 'Silent per Mb', 'Non-silent per Mb']]\n",
    "\n",
    "# Reformat the subject IDs\n",
    "for i, entry in enumerate(mutational_load_data['Tumor_Sample_ID']):\n",
    "    mutational_load_data.loc[i, 'Tumor_Sample_ID'] = entry[:15]\n",
    "\n",
    "print(mutational_load_data.shape)\n",
    "mutational_load_data.head()"
   ]
  },
  {
   "cell_type": "markdown",
   "metadata": {},
   "source": [
    "# Merge datasets"
   ]
  },
  {
   "cell_type": "code",
   "execution_count": null,
   "metadata": {},
   "outputs": [],
   "source": [
    "\n",
    "method = 'left'\n",
    "result = pd.merge(demo_data, gene_data, left_on='TCGA_barcode', right_on='Sample', how=method)\n",
    "result = pd.merge(result, mutational_load_data, left_on='TCGA_barcode', right_on='Tumor_Sample_ID', how=method)\n",
    "result = pd.merge(result, rna_data, left_on='TCGA_barcode', right_on='index', how=method)\n",
    "result = pd.merge(result, cibersort_data, left_on='TCGA_barcode', right_on='SampleID', how=method)\n",
    "result = result.drop(['Tumor_Sample_ID', 'Sample', 'SampleID', 'index'], axis=1)\n",
    "\n",
    "print(result.shape)\n",
    "result.head()"
   ]
  },
  {
   "cell_type": "markdown",
   "metadata": {},
   "source": [
    "# Export Combined Data"
   ]
  },
  {
   "cell_type": "code",
   "execution_count": null,
   "metadata": {},
   "outputs": [],
   "source": [
    "result.to_csv('./data/combined_sarcoma_data.csv', index=False)"
   ]
  }
 ],
 "metadata": {
  "kernelspec": {
   "display_name": "Python 3",
   "language": "python",
   "name": "python3"
  },
  "language_info": {
   "codemirror_mode": {
    "name": "ipython",
    "version": 3
   },
   "file_extension": ".py",
   "mimetype": "text/x-python",
   "name": "python",
   "nbconvert_exporter": "python",
   "pygments_lexer": "ipython3",
   "version": "3.13.5"
  }
 },
 "nbformat": 4,
 "nbformat_minor": 2
}
