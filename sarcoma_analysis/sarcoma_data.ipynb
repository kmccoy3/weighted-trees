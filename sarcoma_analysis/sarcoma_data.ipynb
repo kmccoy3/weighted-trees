{
 "cells": [
  {
   "cell_type": "code",
   "execution_count": 1,
   "metadata": {},
   "outputs": [],
   "source": [
    "# Basic Imports\n",
    "import numpy as np\n",
    "from scipy.stats import uniform, invwishart, matrix_normal, norm\n",
    "from scipy.stats import multivariate_normal as mvn\n",
    "import pandas as pd\n",
    "from sklearn.metrics import mean_squared_error as mse\n",
    "import matplotlib.pyplot as plt\n",
    "import seaborn as sns\n",
    "from time import localtime, strftime\n",
    "\n",
    "# sklearn imports\n",
    "from sklearn.ensemble import RandomForestClassifier as RFC\n",
    "from sklearn.ensemble import RandomForestRegressor as RFR\n",
    "from sklearn.tree import DecisionTreeClassifier as DTC\n",
    "from sklearn.tree import DecisionTreeRegressor as DTR\n",
    "from sklearn.linear_model import LogisticRegression as LR\n",
    "from sklearn.naive_bayes import GaussianNB as GNB\n",
    "\n",
    "import statsmodels.api as sm\n",
    "import statsmodels.formula.api as smf\n",
    "\n",
    "from sklearn.preprocessing import OneHotEncoder"
   ]
  },
  {
   "cell_type": "markdown",
   "metadata": {},
   "source": [
    "# Sarcoma Dataset"
   ]
  },
  {
   "cell_type": "code",
   "execution_count": 2,
   "metadata": {},
   "outputs": [
    {
     "name": "stderr",
     "output_type": "stream",
     "text": [
      "/var/folders/wm/2drf_bfd1kd_992mj3hlps740000gn/T/ipykernel_95350/1994202095.py:9: FutureWarning: Downcasting behavior in `replace` is deprecated and will be removed in a future version. To retain the old behavior, explicitly call `result.infer_objects(copy=False)`. To opt-in to the future behavior, set `pd.set_option('future.no_silent_downcasting', True)`\n",
      "  data = data.replace({\"MALE\": 0, \"FEMALE\":1})\n"
     ]
    }
   ],
   "source": [
    "# Read in data\n",
    "data = pd.read_csv(\"../data/combined_sarcoma_data.csv\")\n",
    "\n",
    "# Clean column names\n",
    "data.columns = data.columns.str.replace(' ', '_')\n",
    "data.columns = data.columns.str.replace('-', '_')\n",
    "\n",
    "# Change MALE to 0, FEMALE to 1\n",
    "data = data.replace({\"MALE\": 0, \"FEMALE\":1})\n",
    "\n",
    "# Drop any rows with missing data\n",
    "data = data.dropna(axis=0)\n",
    "\n",
    "# Normalize the data\n",
    "data['Y'] = (data['Y'] - data['Y'].mean()) / data['Y'].std()\n",
    "\n",
    "# Train-test split\n",
    "X_train = data[~data[\"short_histo\"].isin(['SS', 'MPNST'])]\n",
    "\n",
    "X_test = data[data[\"short_histo\"].isin(['SS', 'MPNST'])]\n",
    "# X_test = data[data[\"short_histo\"].isin(['SS'])]\n",
    "# X_test = data[data[\"short_histo\"].isin(['MPNST'])]\n",
    "\n",
    "features = ['age_at_diagnosis', 'gender', 'JUN',\n",
    "       'VGLL3', 'TERT', 'MAP3K5', 'UST', 'CDKN2A', 'YAP1', 'CDKN1B', 'PTPRQ',\n",
    "       'RB1', 'TP53', 'MYOCD', 'NF1', 'CCNE1', 'CEBPA', 'ZNF552', 'ATRX',\n",
    "       'PTEN', 'DDIT3', 'CDK4', 'HMGA2', 'MDM2', 'FRS2', 'Silent_per_Mb',\n",
    "       'Non_silent_per_Mb', 'CD274', 'CTLA4', 'HAVCR2', 'LAG3', 'PDCD1', \n",
    "       'TCF7', 'TIGIT']\n",
    "\n",
    "output = 'Y'"
   ]
  },
  {
   "cell_type": "code",
   "execution_count": 3,
   "metadata": {},
   "outputs": [
    {
     "name": "stdout",
     "output_type": "stream",
     "text": [
      "Tree MSE: 1.7861912046397423\n"
     ]
    }
   ],
   "source": [
    "# Regular Tree\n",
    "\n",
    "performances = []\n",
    "\n",
    "for i in range(100):\n",
    "    tree = DTR(random_state=i)\n",
    "    tree.fit(X_train[features], X_train[output])\n",
    "    pred = tree.predict(X_test[features])\n",
    "    tree_mse = mse(X_test[output], pred)\n",
    "    performances.append(tree_mse)\n",
    "\n",
    "print(\"Tree MSE:\", np.mean(performances))"
   ]
  },
  {
   "cell_type": "code",
   "execution_count": 5,
   "metadata": {},
   "outputs": [
    {
     "name": "stdout",
     "output_type": "stream",
     "text": [
      "Forest (5 Trees) MSE: 0.8258487463393606\n"
     ]
    }
   ],
   "source": [
    "# Regular random forest\n",
    "\n",
    "performances = []\n",
    "\n",
    "for i in range(100):\n",
    "    tree = RFR(n_estimators=5, random_state=i)\n",
    "    tree.fit(X_train[features], X_train[output])\n",
    "    pred = tree.predict(X_test[features])\n",
    "    forest_mse = mse(X_test[output], pred)\n",
    "    performances.append(forest_mse)\n",
    "\n",
    "print(\"Forest (5 Trees) MSE:\", np.mean(performances))"
   ]
  },
  {
   "cell_type": "code",
   "execution_count": 6,
   "metadata": {},
   "outputs": [
    {
     "name": "stdout",
     "output_type": "stream",
     "text": [
      "Forest (100 Trees) MSE: 0.6942883759127036\n"
     ]
    }
   ],
   "source": [
    "# Regular random forest\n",
    "\n",
    "performances = []\n",
    "\n",
    "for i in range(20):\n",
    "    tree = RFR(n_estimators=100, random_state=i)\n",
    "    tree.fit(X_train[features], X_train[output])\n",
    "    pred = tree.predict(X_test[features])\n",
    "    forest_mse = mse(X_test[output], pred)\n",
    "    performances.append(forest_mse)\n",
    "\n",
    "print(\"Forest (100 Trees) MSE:\", np.mean(performances))"
   ]
  },
  {
   "cell_type": "code",
   "execution_count": 7,
   "metadata": {},
   "outputs": [
    {
     "name": "stdout",
     "output_type": "stream",
     "text": [
      "['DDLPS' 'MFS' 'STLMS' 'ULMS' 'UPS']\n"
     ]
    },
    {
     "name": "stderr",
     "output_type": "stream",
     "text": [
      "/opt/homebrew/anaconda3/envs/me_reg/lib/python3.12/site-packages/sklearn/linear_model/_logistic.py:469: ConvergenceWarning: lbfgs failed to converge (status=1):\n",
      "STOP: TOTAL NO. of ITERATIONS REACHED LIMIT.\n",
      "\n",
      "Increase the number of iterations (max_iter) or scale the data as shown in:\n",
      "    https://scikit-learn.org/stable/modules/preprocessing.html\n",
      "Please also refer to the documentation for alternative solver options:\n",
      "    https://scikit-learn.org/stable/modules/linear_model.html#logistic-regression\n",
      "  n_iter_i = _check_optimize_result(\n"
     ]
    }
   ],
   "source": [
    "# Build group classifier\n",
    "group_clf = LR()  # GNB()  # DTC or RFC or LR or something else?\n",
    "group_clf.fit(X_train[features], X_train['short_histo'])\n",
    "group_pred = group_clf.predict_proba(X_test[features])\n",
    "\n",
    "print(group_clf.classes_)\n",
    "\n",
    "group_pred = group_pred  # + 0.5 #\n",
    "\n",
    "# Normalize group predictions\n",
    "row_sums = group_pred.sum(axis=1)\n",
    "group_pred = group_pred / row_sums[:, np.newaxis]\n",
    "\n",
    "for test_group in ['SS', 'MPNST']:\n",
    "    rows = np.where(X_test['short_histo'] == test_group)\n",
    "    average = np.mean(group_pred[rows,], axis=1)\n",
    "    group_pred[rows] = average"
   ]
  },
  {
   "cell_type": "code",
   "execution_count": 18,
   "metadata": {},
   "outputs": [
    {
     "data": {
      "text/plain": [
       "34"
      ]
     },
     "execution_count": 18,
     "metadata": {},
     "output_type": "execute_result"
    }
   ],
   "source": [
    "tmp = group_clf.coef_\n",
    "len(features)"
   ]
  },
  {
   "cell_type": "code",
   "execution_count": 47,
   "metadata": {},
   "outputs": [
    {
     "name": "stdout",
     "output_type": "stream",
     "text": [
      "Mixture of Trees MSE: 0.6432881083999925\n"
     ]
    }
   ],
   "source": [
    "# Mixture of Trees\n",
    "\n",
    "performances = []\n",
    "\n",
    "for i in range(100):\n",
    "\n",
    "    list_of_trees = []\n",
    "    for group in ['DDLPS', 'MFS', 'STLMS', 'ULMS', 'UPS']:\n",
    "        tree = DTR(random_state=i)\n",
    "        tree.fit(\n",
    "            X_train[X_train[\"short_histo\"] == group][\n",
    "                features\n",
    "            ],\n",
    "            X_train[X_train[\"short_histo\"] == group][output],\n",
    "        )\n",
    "        list_of_trees.append(tree)\n",
    "\n",
    "    preds = np.array(\n",
    "        [\n",
    "            tree.predict(X_test[features])\n",
    "            for tree in list_of_trees\n",
    "        ]\n",
    "    )\n",
    "    preds = preds.T\n",
    "    num = preds.shape[0]\n",
    "    pred = [np.dot(preds[i, :], group_pred[i, :]) for i in range(num)]\n",
    "    performances.append(mse(X_test[output], pred))\n",
    "\n",
    "\n",
    "\n",
    "print(\"Mixture of Trees MSE:\", np.mean(performances))"
   ]
  },
  {
   "cell_type": "code",
   "execution_count": 46,
   "metadata": {},
   "outputs": [
    {
     "name": "stdout",
     "output_type": "stream",
     "text": [
      "Mixture of 20 Tree Forest MSE: 0.5815170395339291\n"
     ]
    }
   ],
   "source": [
    "# Mixture of RF\n",
    "\n",
    "performances = []\n",
    "\n",
    "for i in range(100):\n",
    "\n",
    "    list_of_trees = []\n",
    "    for group in ['DDLPS', 'MFS', 'STLMS', 'ULMS', 'UPS']:\n",
    "        tree = RFR(n_estimators=20, random_state=i)\n",
    "        tree.fit(\n",
    "            X_train[X_train[\"short_histo\"] == group][\n",
    "                features\n",
    "            ],\n",
    "            X_train[X_train[\"short_histo\"] == group][output],\n",
    "        )\n",
    "        list_of_trees.append(tree)\n",
    "\n",
    "    preds = np.array(\n",
    "        [\n",
    "            tree.predict(X_test[features])\n",
    "            for tree in list_of_trees\n",
    "        ]\n",
    "    )\n",
    "    preds = preds.T\n",
    "    num = preds.shape[0]\n",
    "    pred = [np.dot(preds[i, :], group_pred[i, :]) for i in range(num)]\n",
    "    performances.append(mse(X_test[output], pred))\n",
    "\n",
    "\n",
    "\n",
    "print(\"Mixture of 20 Tree Forest MSE:\", np.mean(performances))"
   ]
  },
  {
   "cell_type": "code",
   "execution_count": 8,
   "metadata": {},
   "outputs": [
    {
     "data": {
      "text/plain": [
       "'Y ~ age_at_diagnosis + gender + JUN + VGLL3 + TERT + MAP3K5 + UST + CDKN2A + YAP1 + CDKN1B + PTPRQ + RB1 + TP53 + MYOCD + NF1 + CCNE1 + CEBPA + ZNF552 + ATRX + PTEN + DDIT3 + CDK4 + HMGA2 + MDM2 + FRS2 + Silent_per_Mb + Non_silent_per_Mb + CD274 + CTLA4 + HAVCR2 + LAG3 + PDCD1 + TCF7 + TIGIT'"
      ]
     },
     "execution_count": 8,
     "metadata": {},
     "output_type": "execute_result"
    }
   ],
   "source": [
    "formula = \" ~ \" + \" + \".join(features)\n",
    "output  + formula"
   ]
  },
  {
   "cell_type": "code",
   "execution_count": 39,
   "metadata": {},
   "outputs": [
    {
     "name": "stdout",
     "output_type": "stream",
     "text": [
      "LMM MSE: 0.3715772459434821\n"
     ]
    },
    {
     "name": "stderr",
     "output_type": "stream",
     "text": [
      "/opt/homebrew/anaconda3/envs/me_reg/lib/python3.12/site-packages/statsmodels/base/model.py:607: ConvergenceWarning: Maximum Likelihood optimization failed to converge. Check mle_retvals\n",
      "  warnings.warn(\"Maximum Likelihood optimization failed to \"\n",
      "/opt/homebrew/anaconda3/envs/me_reg/lib/python3.12/site-packages/statsmodels/regression/mixed_linear_model.py:2200: ConvergenceWarning: Retrying MixedLM optimization with lbfgs\n",
      "  warnings.warn(\n",
      "/opt/homebrew/anaconda3/envs/me_reg/lib/python3.12/site-packages/statsmodels/base/model.py:607: ConvergenceWarning: Maximum Likelihood optimization failed to converge. Check mle_retvals\n",
      "  warnings.warn(\"Maximum Likelihood optimization failed to \"\n",
      "/opt/homebrew/anaconda3/envs/me_reg/lib/python3.12/site-packages/statsmodels/regression/mixed_linear_model.py:2200: ConvergenceWarning: Retrying MixedLM optimization with cg\n",
      "  warnings.warn(\n",
      "/opt/homebrew/anaconda3/envs/me_reg/lib/python3.12/site-packages/statsmodels/base/model.py:607: ConvergenceWarning: Maximum Likelihood optimization failed to converge. Check mle_retvals\n",
      "  warnings.warn(\"Maximum Likelihood optimization failed to \"\n",
      "/opt/homebrew/anaconda3/envs/me_reg/lib/python3.12/site-packages/statsmodels/regression/mixed_linear_model.py:2206: ConvergenceWarning: MixedLM optimization failed, trying a different optimizer may help.\n",
      "  warnings.warn(msg, ConvergenceWarning)\n",
      "/opt/homebrew/anaconda3/envs/me_reg/lib/python3.12/site-packages/statsmodels/regression/mixed_linear_model.py:2218: ConvergenceWarning: Gradient optimization failed, |grad| = 1.620221\n",
      "  warnings.warn(msg, ConvergenceWarning)\n"
     ]
    }
   ],
   "source": [
    "# LMM\n",
    "\n",
    "formula = \" ~ \" + \" + \".join(features)\n",
    "\n",
    "md = smf.mixedlm(output + formula, X_train, groups=X_train[\"short_histo\"])\n",
    "mdf = md.fit()\n",
    "pred = mdf.predict(X_test)\n",
    "lmm_mse = mse(X_test[output], pred)\n",
    "print(\"LMM MSE:\", lmm_mse)\n"
   ]
  }
 ],
 "metadata": {
  "kernelspec": {
   "display_name": "me_reg",
   "language": "python",
   "name": "python3"
  },
  "language_info": {
   "codemirror_mode": {
    "name": "ipython",
    "version": 3
   },
   "file_extension": ".py",
   "mimetype": "text/x-python",
   "name": "python",
   "nbconvert_exporter": "python",
   "pygments_lexer": "ipython3",
   "version": "3.12.4"
  }
 },
 "nbformat": 4,
 "nbformat_minor": 2
}
