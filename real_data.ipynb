{
 "cells": [
  {
   "cell_type": "markdown",
   "metadata": {},
   "source": [
    "# Analyzing Performance on HDP Dataset"
   ]
  },
  {
   "cell_type": "code",
   "execution_count": null,
   "metadata": {},
   "outputs": [],
   "source": [
    "# Basic Imports\n",
    "import numpy as np\n",
    "from scipy.stats import uniform, invwishart, matrix_normal, norm\n",
    "from scipy.stats import multivariate_normal as mvn\n",
    "import pandas as pd\n",
    "from sklearn.metrics import mean_squared_error as mse\n",
    "import matplotlib.pyplot as plt\n",
    "import seaborn as sns\n",
    "from time import localtime, strftime\n",
    "\n",
    "# sklearn imports\n",
    "from sklearn.ensemble import RandomForestClassifier as RFC\n",
    "from sklearn.ensemble import RandomForestRegressor as RFR\n",
    "from sklearn.tree import DecisionTreeClassifier as DTC\n",
    "from sklearn.tree import DecisionTreeRegressor as DTR\n",
    "from sklearn.linear_model import LogisticRegression as LR\n",
    "from sklearn.naive_bayes import GaussianNB as GNB\n",
    "\n",
    "import statsmodels.api as sm\n",
    "import statsmodels.formula.api as smf\n",
    "\n",
    "from sklearn.preprocessing import OneHotEncoder"
   ]
  },
  {
   "cell_type": "code",
   "execution_count": null,
   "metadata": {},
   "outputs": [],
   "source": [
    "HDP_data = pd.read_csv(\"https://stats.idre.ucla.edu/stat/data/hdp.csv\")\n",
    "HDP_data.tumorsize = (HDP_data.tumorsize - HDP_data.tumorsize.mean()) / HDP_data.tumorsize.std()\n",
    "\n",
    "HDP_data.head()"
   ]
  },
  {
   "cell_type": "code",
   "execution_count": null,
   "metadata": {},
   "outputs": [],
   "source": [
    "HDP_data = HDP_data.drop(['Experience', 'School', 'Lawsuits', ], axis=1)"
   ]
  },
  {
   "cell_type": "code",
   "execution_count": null,
   "metadata": {},
   "outputs": [],
   "source": [
    "HDP_data.columns"
   ]
  },
  {
   "cell_type": "code",
   "execution_count": null,
   "metadata": {},
   "outputs": [],
   "source": [
    "HDP_data.shape"
   ]
  },
  {
   "cell_type": "code",
   "execution_count": null,
   "metadata": {},
   "outputs": [],
   "source": [
    "HDP_data = pd.get_dummies(HDP_data)"
   ]
  },
  {
   "cell_type": "code",
   "execution_count": null,
   "metadata": {},
   "outputs": [],
   "source": [
    "print(\"Number of unique Doctors:\", len(HDP_data.DID.unique()))\n",
    "print(\"Number of unique Hospitals:\", len(HDP_data.HID.unique()))"
   ]
  },
  {
   "cell_type": "code",
   "execution_count": null,
   "metadata": {},
   "outputs": [],
   "source": [
    "# 5 fold cross validation\n",
    "\n",
    "num_groups = len(HDP_data.DID.unique())\n",
    "\n",
    "fold1 = list(range(1, num_groups // 5 + 1))\n",
    "fold2 = list(range(num_groups // 5 + 1, 2 * num_groups // 5 + 1))\n",
    "fold3 = list(range(2 * num_groups // 5 + 1, 3 * num_groups // 5 + 1))\n",
    "fold4 = list(range(3 * num_groups // 5 + 1, 4 * num_groups // 5 + 1))\n",
    "fold5 = list(range(4 * num_groups // 5 + 1, num_groups + 1))\n",
    "\n",
    "folds = [fold1, fold2, fold3, fold4, fold5]\n",
    "\n",
    "# X_train = data[data[\"DID\"] < last_group]\n",
    "# X_test = data[data[\"DID\"] >= last_group]"
   ]
  },
  {
   "cell_type": "markdown",
   "metadata": {},
   "source": [
    "## Regular Decision Tree"
   ]
  },
  {
   "cell_type": "code",
   "execution_count": null,
   "metadata": {},
   "outputs": [],
   "source": [
    "# Regular Tree\n",
    "\n",
    "tree_mses = []\n",
    "\n",
    "for i in range(5):\n",
    "\n",
    "    X_train = HDP_data[~HDP_data[\"DID\"].isin(folds[i])]\n",
    "    X_test = HDP_data[HDP_data[\"DID\"].isin(folds[i])]\n",
    "\n",
    "    tree = DTR(random_state=0)\n",
    "    tree.fit(X_train.drop([\"DID\", \"HID\", \"tumorsize\"], axis=1), X_train[\"tumorsize\"])\n",
    "    pred = tree.predict(X_test.drop([\"DID\", \"HID\", \"tumorsize\"], axis=1))\n",
    "    tree_mses.append(mse(X_test[\"tumorsize\"], pred))\n",
    "\n",
    "print(\"Tree MSE:\", np.mean(tree_mses))"
   ]
  },
  {
   "cell_type": "markdown",
   "metadata": {},
   "source": [
    "## Regular Random Forest"
   ]
  },
  {
   "cell_type": "code",
   "execution_count": null,
   "metadata": {},
   "outputs": [],
   "source": [
    "# Regular random forest\n",
    "\n",
    "forest_mses = []\n",
    "\n",
    "for i in range(5):\n",
    "\n",
    "    X_train = HDP_data[~HDP_data[\"DID\"].isin(folds[i])]\n",
    "    X_test = HDP_data[HDP_data[\"DID\"].isin(folds[i])]\n",
    "\n",
    "    tree = RFR(random_state=0, n_estimators=81)\n",
    "    tree.fit(X_train.drop([\"DID\", \"HID\", \"tumorsize\"], axis=1), X_train[\"tumorsize\"])\n",
    "    pred = tree.predict(X_test.drop([\"DID\", \"HID\", \"tumorsize\"], axis=1))\n",
    "    forest_mses.append(mse(X_test[\"tumorsize\"], pred))\n",
    "\n",
    "print(\"Forest MSE:\", np.mean(forest_mses))"
   ]
  },
  {
   "cell_type": "markdown",
   "metadata": {},
   "source": [
    "# LMM"
   ]
  },
  {
   "cell_type": "code",
   "execution_count": null,
   "metadata": {},
   "outputs": [],
   "source": [
    "formula = \" + \".join(['co2', 'pain', 'wound', 'mobility', 'ntumors', 'nmorphine',\n",
    "       'remission', 'lungcapacity', 'Age', 'Married', 'LengthofStay', 'WBC',\n",
    "       'RBC', 'BMI', 'IL6', 'CRP', 'Medicaid', 'FamilyHx_no',\n",
    "       'FamilyHx_yes', 'SmokingHx_current', 'SmokingHx_former',\n",
    "       'SmokingHx_never', 'Sex_female', 'Sex_male', 'CancerStage_I',\n",
    "       'CancerStage_II', 'CancerStage_III', 'CancerStage_IV'])"
   ]
  },
  {
   "cell_type": "code",
   "execution_count": null,
   "metadata": {},
   "outputs": [],
   "source": [
    "\n",
    "lmm_mses = []\n",
    "\n",
    "for i in range(5):\n",
    "\n",
    "    X_train = HDP_data[~HDP_data[\"DID\"].isin(folds[i])]\n",
    "    X_test = HDP_data[HDP_data[\"DID\"].isin(folds[i])]\n",
    "\n",
    "    md = smf.mixedlm(\"tumorsize ~ \" + formula, X_train, groups=X_train[\"DID\"], re_formula= \" ~ (1|DID)\")\n",
    "    mdf = md.fit()\n",
    "    pred = mdf.predict(X_test)\n",
    "    lmm_mses.append(mse(X_test[\"tumorsize\"], pred))\n",
    "\n",
    "print(\"LMM MSE:\", np.mean(lmm_mses))"
   ]
  },
  {
   "cell_type": "markdown",
   "metadata": {},
   "source": [
    "## Sum of Trees"
   ]
  },
  {
   "cell_type": "code",
   "execution_count": null,
   "metadata": {},
   "outputs": [],
   "source": [
    "\n",
    "my_mses = []\n",
    "\n",
    "for i in range(5):\n",
    "\n",
    "    X_train = HDP_data[~HDP_data[\"DID\"].isin(folds[i])]\n",
    "    X_test = HDP_data[HDP_data[\"DID\"].isin(folds[i])]\n",
    "\n",
    "\n",
    "\n",
    "    # Build group classifier\n",
    "    group_clf = LR()  # GNB()  # DTC or RFC or LR or something else?\n",
    "    group_clf.fit(\n",
    "        X_train.drop([\"DID\", \"HID\", \"tumorsize\"], axis=1), X_train[\"DID\"]\n",
    "    )\n",
    "    group_pred = group_clf.predict_proba(\n",
    "        X_test.drop([\"DID\", \"HID\", \"tumorsize\"], axis=1)\n",
    "    )\n",
    "\n",
    "    # group_pred = group_pred  # + 0.5 #\n",
    "\n",
    "    # # Normalize group predictions\n",
    "    # row_sums = group_pred.sum(axis=1)\n",
    "    # group_pred = group_pred / row_sums[:, np.newaxis]\n",
    "\n",
    "    for test_group in range(len(folds[i])):\n",
    "        rows = np.where(X_test[\"DID\"] == test_group)\n",
    "        average = np.mean(group_pred[rows,], axis=1)\n",
    "        group_pred[rows] = average\n",
    "\n",
    "    # Mixture of Trees\n",
    "    list_of_trees = []\n",
    "\n",
    "    train_trees = list(set(range(1, 407+1)) - set(folds[i]))\n",
    "\n",
    "    for i in train_trees:\n",
    "        tree = DTR()\n",
    "        tree.fit(\n",
    "            X_train[X_train[\"DID\"] == i].drop([\"DID\", \"HID\", \"tumorsize\"], axis=1),\n",
    "            X_train[X_train[\"DID\"] == i][\"tumorsize\"],\n",
    "        )\n",
    "        list_of_trees.append(tree)\n",
    "\n",
    "    preds = np.array(\n",
    "        [\n",
    "            tree.predict(X_test.drop([\"DID\", \"HID\", \"tumorsize\"], axis=1))\n",
    "            for tree in list_of_trees\n",
    "        ]\n",
    "    )\n",
    "    preds = preds.T\n",
    "    num = preds.shape[0]\n",
    "    pred = [np.dot(preds[i, :], group_pred[i, :]) for i in range(num)]\n",
    "\n",
    "    my_mses.append(mse(X_test[\"tumorsize\"], pred))\n",
    "\n",
    "\n",
    "\n",
    "\n",
    "\n",
    "print(\"Mixture of Trees MSE:\", np.mean(my_mses))\n"
   ]
  },
  {
   "cell_type": "markdown",
   "metadata": {},
   "source": [
    "# HDP but on Hospital"
   ]
  },
  {
   "cell_type": "code",
   "execution_count": null,
   "metadata": {},
   "outputs": [],
   "source": [
    "# 5 fold cross validation\n",
    "\n",
    "num_groups = len(HDP_data.HID.unique())\n",
    "\n",
    "fold1 = list(range(1, num_groups // 5 + 1))\n",
    "fold2 = list(range(num_groups // 5 + 1, 2 * num_groups // 5 + 1))\n",
    "fold3 = list(range(2 * num_groups // 5 + 1, 3 * num_groups // 5 + 1))\n",
    "fold4 = list(range(3 * num_groups // 5 + 1, 4 * num_groups // 5 + 1))\n",
    "fold5 = list(range(4 * num_groups // 5 + 1, num_groups + 1))\n",
    "\n",
    "folds = [fold1, fold2, fold3, fold4, fold5]"
   ]
  },
  {
   "cell_type": "markdown",
   "metadata": {},
   "source": [
    "## Regular Decision Tree"
   ]
  },
  {
   "cell_type": "code",
   "execution_count": null,
   "metadata": {},
   "outputs": [],
   "source": [
    "# Regular Tree\n",
    "\n",
    "tree_mses = []\n",
    "\n",
    "for i in range(5):\n",
    "\n",
    "    X_train = HDP_data[~HDP_data[\"HID\"].isin(folds[i])]\n",
    "    X_test = HDP_data[HDP_data[\"HID\"].isin(folds[i])]\n",
    "\n",
    "    tree = DTR(random_state=0)\n",
    "    tree.fit(X_train.drop([\"DID\", \"HID\", \"tumorsize\"], axis=1), X_train[\"tumorsize\"])\n",
    "    pred = tree.predict(X_test.drop([\"DID\", \"HID\", \"tumorsize\"], axis=1))\n",
    "    tree_mses.append(mse(X_test[\"tumorsize\"], pred))\n",
    "\n",
    "print(\"Tree MSE:\", np.mean(tree_mses))"
   ]
  },
  {
   "cell_type": "markdown",
   "metadata": {},
   "source": [
    "## Regular Random Forest"
   ]
  },
  {
   "cell_type": "code",
   "execution_count": null,
   "metadata": {},
   "outputs": [],
   "source": [
    "# Regular random forest\n",
    "\n",
    "forest_mses = []\n",
    "\n",
    "for i in range(5):\n",
    "\n",
    "    X_train = HDP_data[~HDP_data[\"HID\"].isin(folds[i])]\n",
    "    X_test = HDP_data[HDP_data[\"HID\"].isin(folds[i])]\n",
    "\n",
    "    tree = RFR(random_state=0, n_estimators=81)\n",
    "    tree.fit(X_train.drop([\"DID\", \"HID\", \"tumorsize\"], axis=1), X_train[\"tumorsize\"])\n",
    "    pred = tree.predict(X_test.drop([\"DID\", \"HID\", \"tumorsize\"], axis=1))\n",
    "    forest_mses.append(mse(X_test[\"tumorsize\"], pred))\n",
    "\n",
    "print(\"Forest MSE:\", np.mean(forest_mses))"
   ]
  },
  {
   "cell_type": "markdown",
   "metadata": {},
   "source": [
    "# LMM"
   ]
  },
  {
   "cell_type": "code",
   "execution_count": null,
   "metadata": {},
   "outputs": [],
   "source": [
    "formula = \" + \".join(['co2', 'pain', 'wound', 'mobility', 'ntumors', 'nmorphine',\n",
    "       'remission', 'lungcapacity', 'Age', 'Married', 'LengthofStay', 'WBC',\n",
    "       'RBC', 'BMI', 'IL6', 'CRP', 'Medicaid', 'FamilyHx_no',\n",
    "       'FamilyHx_yes', 'SmokingHx_current', 'SmokingHx_former',\n",
    "       'SmokingHx_never', 'Sex_female', 'Sex_male', 'CancerStage_I',\n",
    "       'CancerStage_II', 'CancerStage_III', 'CancerStage_IV'])"
   ]
  },
  {
   "cell_type": "code",
   "execution_count": null,
   "metadata": {},
   "outputs": [],
   "source": [
    "\n",
    "lmm_mses = []\n",
    "\n",
    "for i in range(5):\n",
    "\n",
    "    X_train = HDP_data[~HDP_data[\"HID\"].isin(folds[i])]\n",
    "    X_test = HDP_data[HDP_data[\"HID\"].isin(folds[i])]\n",
    "\n",
    "    md = smf.mixedlm(\"tumorsize ~ \" + formula, X_train, groups=X_train[\"DID\"], re_formula= \" ~ (1|HID)\")\n",
    "    mdf = md.fit()\n",
    "    pred = mdf.predict(X_test)\n",
    "    lmm_mses.append(mse(X_test[\"tumorsize\"], pred))\n",
    "\n",
    "print(\"LMM MSE:\", np.mean(lmm_mses))"
   ]
  },
  {
   "cell_type": "markdown",
   "metadata": {},
   "source": [
    "## Sum of Trees"
   ]
  },
  {
   "cell_type": "code",
   "execution_count": null,
   "metadata": {},
   "outputs": [],
   "source": [
    "\n",
    "my_mses = []\n",
    "\n",
    "for i in range(5):\n",
    "\n",
    "    X_train = HDP_data[~HDP_data[\"HID\"].isin(folds[i])]\n",
    "    X_test = HDP_data[HDP_data[\"HID\"].isin(folds[i])]\n",
    "\n",
    "\n",
    "\n",
    "    # Build group classifier\n",
    "    group_clf = LR()  # GNB()  # DTC or RFC or LR or something else?\n",
    "    group_clf.fit(\n",
    "        X_train.drop([\"DID\", \"HID\", \"tumorsize\"], axis=1), X_train[\"HID\"]\n",
    "    )\n",
    "    group_pred = group_clf.predict_proba(\n",
    "        X_test.drop([\"DID\", \"HID\", \"tumorsize\"], axis=1)\n",
    "    )\n",
    "\n",
    "    # group_pred = group_pred  # + 0.5 #\n",
    "\n",
    "    # # Normalize group predictions\n",
    "    # row_sums = group_pred.sum(axis=1)\n",
    "    # group_pred = group_pred / row_sums[:, np.newaxis]\n",
    "\n",
    "    for test_group in range(len(folds[i])):\n",
    "        rows = np.where(X_test[\"HID\"] == test_group)\n",
    "        average = np.mean(group_pred[rows,], axis=1)\n",
    "        group_pred[rows] = average\n",
    "\n",
    "    # Mixture of Trees\n",
    "    list_of_trees = []\n",
    "\n",
    "    train_trees = list(set(range(1, 35+1)) - set(folds[i]))\n",
    "\n",
    "    for i in train_trees:\n",
    "        tree = DTR()\n",
    "        tree.fit(\n",
    "            X_train[X_train[\"HID\"] == i].drop([\"DID\", \"HID\", \"tumorsize\"], axis=1),\n",
    "            X_train[X_train[\"HID\"] == i][\"tumorsize\"],\n",
    "        )\n",
    "        list_of_trees.append(tree)\n",
    "\n",
    "    preds = np.array(\n",
    "        [\n",
    "            tree.predict(X_test.drop([\"DID\", \"HID\", \"tumorsize\"], axis=1))\n",
    "            for tree in list_of_trees\n",
    "        ]\n",
    "    )\n",
    "    preds = preds.T\n",
    "    num = preds.shape[0]\n",
    "    pred = [np.dot(preds[i, :], group_pred[i, :]) for i in range(num)]\n",
    "\n",
    "    my_mses.append(mse(X_test[\"tumorsize\"], pred))\n",
    "\n",
    "print(\"Mixture of Trees MSE:\", np.mean(my_mses))\n"
   ]
  },
  {
   "cell_type": "markdown",
   "metadata": {},
   "source": [
    "# Sarcoma Dataset"
   ]
  },
  {
   "cell_type": "code",
   "execution_count": null,
   "metadata": {},
   "outputs": [],
   "source": [
    "data = pd.read_csv(\"sarcoma_data/combined_sarcoma_data.csv\")\n",
    "\n",
    "data.columns = data.columns.str.replace(' ', '_')\n",
    "data.columns = data.columns.str.replace('-', '_')\n",
    "\n",
    "# Change MALE to 0, FEMALE to 1\n",
    "data = data.replace({\"MALE\": 0, \"FEMALE\":1})\n",
    "\n",
    "data = data.dropna(axis=0)\n",
    "\n",
    "data['Leukocyte_Fraction'] = (data['Leukocyte_Fraction'] - data['Leukocyte_Fraction'].mean()) / data['Leukocyte_Fraction'].std()\n",
    "\n",
    "\n",
    "# Train-test split\n",
    "X_train = data[~data[\"short_histo\"].isin(['SS', 'MPNST'])]\n",
    "X_test = data[data[\"short_histo\"].isin(['SS', 'MPNST'])]\n",
    "\n",
    "features = ['age_at_diagnosis', 'gender', 'JUN',\n",
    "       'VGLL3', 'TERT', 'MAP3K5', 'UST', 'CDKN2A', 'YAP1', 'CDKN1B', 'PTPRQ',\n",
    "       'RB1', 'TP53', 'MYOCD', 'NF1', 'CCNE1', 'CEBPA', 'ZNF552', 'ATRX',\n",
    "       'PTEN', 'DDIT3', 'CDK4', 'HMGA2', 'MDM2', 'FRS2', 'Silent_per_Mb',\n",
    "       'Non_silent_per_Mb']\n",
    "\n",
    "output = 'Leukocyte_Fraction'"
   ]
  },
  {
   "cell_type": "code",
   "execution_count": null,
   "metadata": {},
   "outputs": [],
   "source": [
    "# Regular Tree\n",
    "\n",
    "performances = []\n",
    "\n",
    "for i in range(100):\n",
    "    tree = DTR(random_state=i)\n",
    "    tree.fit(X_train[features], X_train[output])\n",
    "    pred = tree.predict(X_test[features])\n",
    "    tree_mse = mse(X_test[output], pred)\n",
    "    performances.append(tree_mse)\n",
    "\n",
    "print(\"Tree MSE:\", np.mean(performances))"
   ]
  },
  {
   "cell_type": "code",
   "execution_count": null,
   "metadata": {},
   "outputs": [],
   "source": [
    "# Regular random forest\n",
    "\n",
    "performances = []\n",
    "\n",
    "for i in range(100):\n",
    "    tree = RFR(n_estimators=5, random_state=0)\n",
    "    tree.fit(X_train[features], X_train[output])\n",
    "    pred = tree.predict(X_test[features])\n",
    "    forest_mse = mse(X_test[output], pred)\n",
    "    performances.append(forest_mse)\n",
    "\n",
    "print(\"Forest MSE:\", np.mean(performances))"
   ]
  },
  {
   "cell_type": "code",
   "execution_count": null,
   "metadata": {},
   "outputs": [],
   "source": [
    "# Build group classifier\n",
    "group_clf = LR()  # GNB()  # DTC or RFC or LR or something else?\n",
    "group_clf.fit(\n",
    "    X_train[features], X_train['short_histo']\n",
    ")\n",
    "group_pred = group_clf.predict_proba(\n",
    "    X_test[features]\n",
    ")\n",
    "\n",
    "group_pred = group_pred  # + 0.5 #\n",
    "\n",
    "# Normalize group predictions\n",
    "row_sums = group_pred.sum(axis=1)\n",
    "group_pred = group_pred / row_sums[:, np.newaxis]\n",
    "\n",
    "for test_group in ['SS', 'MPNST']:\n",
    "    rows = np.where(X_test['short_histo'] == test_group)\n",
    "    average = np.mean(group_pred[rows,], axis=1)\n",
    "    group_pred[rows] = average"
   ]
  },
  {
   "cell_type": "code",
   "execution_count": null,
   "metadata": {},
   "outputs": [],
   "source": [
    "# Mixture of Trees\n",
    "\n",
    "\n",
    "performances = []\n",
    "\n",
    "for i in range(100):\n",
    "\n",
    "    list_of_trees = []\n",
    "    for group in ['STLMS', 'DDLPS', 'UPS', 'MFS', 'ULMS']:\n",
    "        tree = DTR()\n",
    "        tree.fit(\n",
    "            X_train[X_train[\"short_histo\"] == group][\n",
    "                features\n",
    "            ],\n",
    "            X_train[X_train[\"short_histo\"] == group][output],\n",
    "        )\n",
    "        list_of_trees.append(tree)\n",
    "\n",
    "    preds = np.array(\n",
    "        [\n",
    "            tree.predict(X_test[features])\n",
    "            for tree in list_of_trees\n",
    "        ]\n",
    "    )\n",
    "    preds = preds.T\n",
    "    num = preds.shape[0]\n",
    "    pred = [np.dot(preds[i, :], group_pred[i, :]) for i in range(num)]\n",
    "    performances.append(mse(X_test[output], pred))\n",
    "\n",
    "\n",
    "\n",
    "print(\"Mixture of Trees MSE:\", np.mean(performances))"
   ]
  },
  {
   "cell_type": "code",
   "execution_count": null,
   "metadata": {},
   "outputs": [],
   "source": [
    "# LMM\n",
    "\n",
    "formula = \" ~ \" + \" + \".join(features)\n",
    "\n",
    "md = smf.mixedlm(output + formula, X_train, groups=X_train[\"short_histo\"])\n",
    "mdf = md.fit()\n",
    "pred = mdf.predict(X_test)\n",
    "lmm_mse = mse(X_test[output], pred)\n",
    "print(\"LMM MSE:\", lmm_mse)\n"
   ]
  },
  {
   "cell_type": "code",
   "execution_count": null,
   "metadata": {},
   "outputs": [],
   "source": []
  }
 ],
 "metadata": {
  "kernelspec": {
   "display_name": "base",
   "language": "python",
   "name": "python3"
  },
  "language_info": {
   "codemirror_mode": {
    "name": "ipython",
    "version": 3
   },
   "file_extension": ".py",
   "mimetype": "text/x-python",
   "name": "python",
   "nbconvert_exporter": "python",
   "pygments_lexer": "ipython3",
   "version": "3.12.4"
  }
 },
 "nbformat": 4,
 "nbformat_minor": 2
}
